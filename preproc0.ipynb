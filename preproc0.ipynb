{
 "cells": [
  {
   "cell_type": "code",
   "execution_count": 2,
   "id": "70d4695a-4f3d-4423-9d95-975cc4fb44f8",
   "metadata": {},
   "outputs": [],
   "source": [
    "import numpy as np\n",
    "import pandas as pd"
   ]
  },
  {
   "cell_type": "code",
   "execution_count": 9,
   "id": "e6db048e-5b18-4e4d-8a2b-c82bd54ab26e",
   "metadata": {},
   "outputs": [],
   "source": [
    "test = pd.read_csv('Source/test.txt', delimiter='\\t')\n",
    "train = pd.read_csv('Source/train.txt', delimiter='\\t')"
   ]
  },
  {
   "cell_type": "code",
   "execution_count": 61,
   "id": "cd9e5328-2ad1-4ea6-ad1a-36e2fb98dcef",
   "metadata": {},
   "outputs": [],
   "source": [
    "train_0 = train"
   ]
  },
  {
   "cell_type": "code",
   "execution_count": 3,
   "id": "72c60b1e-f4cf-47f0-a00e-24faf5462cc9",
   "metadata": {},
   "outputs": [],
   "source": [
    "# y_train = train.DEF\n",
    "# x_train = train[['CLIENT_ID', 'RETRO_DT', 'tokens', 'urls_hashed']]"
   ]
  },
  {
   "cell_type": "code",
   "execution_count": 10,
   "id": "b5b416a5-c139-4f7e-93e1-523eaa39245e",
   "metadata": {},
   "outputs": [
    {
     "data": {
      "text/html": [
       "<div>\n",
       "<style scoped>\n",
       "    .dataframe tbody tr th:only-of-type {\n",
       "        vertical-align: middle;\n",
       "    }\n",
       "\n",
       "    .dataframe tbody tr th {\n",
       "        vertical-align: top;\n",
       "    }\n",
       "\n",
       "    .dataframe thead th {\n",
       "        text-align: right;\n",
       "    }\n",
       "</style>\n",
       "<table border=\"1\" class=\"dataframe\">\n",
       "  <thead>\n",
       "    <tr style=\"text-align: right;\">\n",
       "      <th></th>\n",
       "      <th>CLIENT_ID</th>\n",
       "      <th>RETRO_DT</th>\n",
       "      <th>tokens</th>\n",
       "      <th>DEF</th>\n",
       "      <th>urls_hashed</th>\n",
       "    </tr>\n",
       "  </thead>\n",
       "  <tbody>\n",
       "    <tr>\n",
       "      <th>0</th>\n",
       "      <td>5909886</td>\n",
       "      <td>20200911</td>\n",
       "      <td>форм 1 мачеха 1 работы 1 пасынка 1 горячую 1 м...</td>\n",
       "      <td>0</td>\n",
       "      <td>7bbcc146c0ba4df814701ff7297b2205 1 ee0d49cbc99...</td>\n",
       "    </tr>\n",
       "    <tr>\n",
       "      <th>1</th>\n",
       "      <td>1385448</td>\n",
       "      <td>20210519</td>\n",
       "      <td>platiza 1 мобильные 2 sergej 1 code 3 отказов ...</td>\n",
       "      <td>1</td>\n",
       "      <td>1889e0cbd3e343e9521a07aa312257ac 2 8253d8d3a67...</td>\n",
       "    </tr>\n",
       "    <tr>\n",
       "      <th>2</th>\n",
       "      <td>1866195</td>\n",
       "      <td>20210913</td>\n",
       "      <td>sims 3 кредит 1 языке 1 разлива 1 огромное 1 о...</td>\n",
       "      <td>0</td>\n",
       "      <td>6e617b4bfdbef85d8b09ec08ac72f0f2 1 94309f5f116...</td>\n",
       "    </tr>\n",
       "    <tr>\n",
       "      <th>3</th>\n",
       "      <td>1587081</td>\n",
       "      <td>20210702</td>\n",
       "      <td>code 1 историй 1 scf 1 шаг 1 деньги 3 серый 1 ...</td>\n",
       "      <td>0</td>\n",
       "      <td>1e833434273e04ba76cfcfb4b48ad21b 3 aee71c8d18d...</td>\n",
       "    </tr>\n",
       "    <tr>\n",
       "      <th>4</th>\n",
       "      <td>1400908</td>\n",
       "      <td>20210522</td>\n",
       "      <td>отказов 2 tovara 1 сергея 1 купальный 1 чёрный...</td>\n",
       "      <td>0</td>\n",
       "      <td>83e85bee0d81c0e9e5047e202cddf534 3 6e617b4bfdb...</td>\n",
       "    </tr>\n",
       "  </tbody>\n",
       "</table>\n",
       "</div>"
      ],
      "text/plain": [
       "   CLIENT_ID  RETRO_DT                                             tokens  \\\n",
       "0    5909886  20200911  форм 1 мачеха 1 работы 1 пасынка 1 горячую 1 м...   \n",
       "1    1385448  20210519  platiza 1 мобильные 2 sergej 1 code 3 отказов ...   \n",
       "2    1866195  20210913  sims 3 кредит 1 языке 1 разлива 1 огромное 1 о...   \n",
       "3    1587081  20210702  code 1 историй 1 scf 1 шаг 1 деньги 3 серый 1 ...   \n",
       "4    1400908  20210522  отказов 2 tovara 1 сергея 1 купальный 1 чёрный...   \n",
       "\n",
       "   DEF                                        urls_hashed  \n",
       "0    0  7bbcc146c0ba4df814701ff7297b2205 1 ee0d49cbc99...  \n",
       "1    1  1889e0cbd3e343e9521a07aa312257ac 2 8253d8d3a67...  \n",
       "2    0  6e617b4bfdbef85d8b09ec08ac72f0f2 1 94309f5f116...  \n",
       "3    0  1e833434273e04ba76cfcfb4b48ad21b 3 aee71c8d18d...  \n",
       "4    0  83e85bee0d81c0e9e5047e202cddf534 3 6e617b4bfdb...  "
      ]
     },
     "execution_count": 10,
     "metadata": {},
     "output_type": "execute_result"
    }
   ],
   "source": [
    "train.head()"
   ]
  },
  {
   "cell_type": "code",
   "execution_count": 11,
   "id": "d21a917e-c61d-468c-a393-d62512efe3bc",
   "metadata": {
    "tags": []
   },
   "outputs": [
    {
     "data": {
      "text/html": [
       "<div>\n",
       "<style scoped>\n",
       "    .dataframe tbody tr th:only-of-type {\n",
       "        vertical-align: middle;\n",
       "    }\n",
       "\n",
       "    .dataframe tbody tr th {\n",
       "        vertical-align: top;\n",
       "    }\n",
       "\n",
       "    .dataframe thead th {\n",
       "        text-align: right;\n",
       "    }\n",
       "</style>\n",
       "<table border=\"1\" class=\"dataframe\">\n",
       "  <thead>\n",
       "    <tr style=\"text-align: right;\">\n",
       "      <th></th>\n",
       "      <th>CLIENT_ID</th>\n",
       "      <th>RETRO_DT</th>\n",
       "      <th>tokens</th>\n",
       "      <th>urls_hashed</th>\n",
       "    </tr>\n",
       "  </thead>\n",
       "  <tbody>\n",
       "    <tr>\n",
       "      <th>0</th>\n",
       "      <td>5467000</td>\n",
       "      <td>20200419</td>\n",
       "      <td>vezet 1 hats 2 сухого 1 деньги 1 режим 4 недел...</td>\n",
       "      <td>4104c0437f707b9f443bf845d92d3633 1 83e85bee0d8...</td>\n",
       "    </tr>\n",
       "    <tr>\n",
       "      <th>1</th>\n",
       "      <td>6093848</td>\n",
       "      <td>20201107</td>\n",
       "      <td>статью 1 month 4 udobreniya 1 podkormka 1 акту...</td>\n",
       "      <td>db0853001fff2bbe88cb5fa709d8077e 1 6e617b4bfdb...</td>\n",
       "    </tr>\n",
       "    <tr>\n",
       "      <th>2</th>\n",
       "      <td>5269916</td>\n",
       "      <td>20200305</td>\n",
       "      <td>zdorovye 2 мобильные 1 снять 2 tovara 1 платье...</td>\n",
       "      <td>1889e0cbd3e343e9521a07aa312257ac 2 aee71c8d18d...</td>\n",
       "    </tr>\n",
       "    <tr>\n",
       "      <th>3</th>\n",
       "      <td>816015821</td>\n",
       "      <td>20220115</td>\n",
       "      <td>шины 1 воздушный 1 вкусных 1 эскудо 1 сухого 1...</td>\n",
       "      <td>aee71c8d18d6b91b36bf599208a91777 7 6754d470b22...</td>\n",
       "    </tr>\n",
       "    <tr>\n",
       "      <th>4</th>\n",
       "      <td>223498561</td>\n",
       "      <td>20211204</td>\n",
       "      <td>купить 2 blyudo 2 юрист 2 sekretnye 2 funktsii...</td>\n",
       "      <td>1246f8d1136a114c448c1b2565e16698 2 0f7f6a4507e...</td>\n",
       "    </tr>\n",
       "  </tbody>\n",
       "</table>\n",
       "</div>"
      ],
      "text/plain": [
       "   CLIENT_ID  RETRO_DT                                             tokens  \\\n",
       "0    5467000  20200419  vezet 1 hats 2 сухого 1 деньги 1 режим 4 недел...   \n",
       "1    6093848  20201107  статью 1 month 4 udobreniya 1 podkormka 1 акту...   \n",
       "2    5269916  20200305  zdorovye 2 мобильные 1 снять 2 tovara 1 платье...   \n",
       "3  816015821  20220115  шины 1 воздушный 1 вкусных 1 эскудо 1 сухого 1...   \n",
       "4  223498561  20211204  купить 2 blyudo 2 юрист 2 sekretnye 2 funktsii...   \n",
       "\n",
       "                                         urls_hashed  \n",
       "0  4104c0437f707b9f443bf845d92d3633 1 83e85bee0d8...  \n",
       "1  db0853001fff2bbe88cb5fa709d8077e 1 6e617b4bfdb...  \n",
       "2  1889e0cbd3e343e9521a07aa312257ac 2 aee71c8d18d...  \n",
       "3  aee71c8d18d6b91b36bf599208a91777 7 6754d470b22...  \n",
       "4  1246f8d1136a114c448c1b2565e16698 2 0f7f6a4507e...  "
      ]
     },
     "execution_count": 11,
     "metadata": {},
     "output_type": "execute_result"
    }
   ],
   "source": [
    "test.head()"
   ]
  },
  {
   "cell_type": "raw",
   "id": "e99745cf-caf9-4d2d-a41e-74d8a9e8e147",
   "metadata": {},
   "source": [
    "проверка уникальности id"
   ]
  },
  {
   "cell_type": "code",
   "execution_count": 12,
   "id": "eba3f1b6-b40d-42a0-b6ff-2bebd6057d92",
   "metadata": {},
   "outputs": [
    {
     "name": "stdout",
     "output_type": "stream",
     "text": [
      "458581\n",
      "458581\n"
     ]
    }
   ],
   "source": [
    "print(len(list(train['CLIENT_ID'].unique())+ list(test['CLIENT_ID'].unique())))\n",
    "print(len(set(list(train['CLIENT_ID'].unique())+ list(test['CLIENT_ID'].unique()))))"
   ]
  },
  {
   "cell_type": "raw",
   "id": "c997cd79-80ad-4adc-ae38-edc9cf773e92",
   "metadata": {},
   "source": [
    "id уникален"
   ]
  },
  {
   "cell_type": "code",
   "execution_count": 13,
   "id": "5f440631-5723-4f60-b23b-6495fd6fba6f",
   "metadata": {},
   "outputs": [
    {
     "data": {
      "text/html": [
       "<div>\n",
       "<style scoped>\n",
       "    .dataframe tbody tr th:only-of-type {\n",
       "        vertical-align: middle;\n",
       "    }\n",
       "\n",
       "    .dataframe tbody tr th {\n",
       "        vertical-align: top;\n",
       "    }\n",
       "\n",
       "    .dataframe thead th {\n",
       "        text-align: right;\n",
       "    }\n",
       "</style>\n",
       "<table border=\"1\" class=\"dataframe\">\n",
       "  <thead>\n",
       "    <tr style=\"text-align: right;\">\n",
       "      <th></th>\n",
       "      <th>RETRO_DT</th>\n",
       "      <th>tokens</th>\n",
       "      <th>DEF</th>\n",
       "      <th>urls_hashed</th>\n",
       "    </tr>\n",
       "    <tr>\n",
       "      <th>CLIENT_ID</th>\n",
       "      <th></th>\n",
       "      <th></th>\n",
       "      <th></th>\n",
       "      <th></th>\n",
       "    </tr>\n",
       "  </thead>\n",
       "  <tbody>\n",
       "    <tr>\n",
       "      <th>5909886</th>\n",
       "      <td>20200911</td>\n",
       "      <td>форм 1 мачеха 1 работы 1 пасынка 1 горячую 1 м...</td>\n",
       "      <td>0</td>\n",
       "      <td>7bbcc146c0ba4df814701ff7297b2205 1 ee0d49cbc99...</td>\n",
       "    </tr>\n",
       "    <tr>\n",
       "      <th>1385448</th>\n",
       "      <td>20210519</td>\n",
       "      <td>platiza 1 мобильные 2 sergej 1 code 3 отказов ...</td>\n",
       "      <td>1</td>\n",
       "      <td>1889e0cbd3e343e9521a07aa312257ac 2 8253d8d3a67...</td>\n",
       "    </tr>\n",
       "    <tr>\n",
       "      <th>1866195</th>\n",
       "      <td>20210913</td>\n",
       "      <td>sims 3 кредит 1 языке 1 разлива 1 огромное 1 о...</td>\n",
       "      <td>0</td>\n",
       "      <td>6e617b4bfdbef85d8b09ec08ac72f0f2 1 94309f5f116...</td>\n",
       "    </tr>\n",
       "    <tr>\n",
       "      <th>1587081</th>\n",
       "      <td>20210702</td>\n",
       "      <td>code 1 историй 1 scf 1 шаг 1 деньги 3 серый 1 ...</td>\n",
       "      <td>0</td>\n",
       "      <td>1e833434273e04ba76cfcfb4b48ad21b 3 aee71c8d18d...</td>\n",
       "    </tr>\n",
       "    <tr>\n",
       "      <th>1400908</th>\n",
       "      <td>20210522</td>\n",
       "      <td>отказов 2 tovara 1 сергея 1 купальный 1 чёрный...</td>\n",
       "      <td>0</td>\n",
       "      <td>83e85bee0d81c0e9e5047e202cddf534 3 6e617b4bfdb...</td>\n",
       "    </tr>\n",
       "  </tbody>\n",
       "</table>\n",
       "</div>"
      ],
      "text/plain": [
       "           RETRO_DT                                             tokens  DEF  \\\n",
       "CLIENT_ID                                                                     \n",
       "5909886    20200911  форм 1 мачеха 1 работы 1 пасынка 1 горячую 1 м...    0   \n",
       "1385448    20210519  platiza 1 мобильные 2 sergej 1 code 3 отказов ...    1   \n",
       "1866195    20210913  sims 3 кредит 1 языке 1 разлива 1 огромное 1 о...    0   \n",
       "1587081    20210702  code 1 историй 1 scf 1 шаг 1 деньги 3 серый 1 ...    0   \n",
       "1400908    20210522  отказов 2 tovara 1 сергея 1 купальный 1 чёрный...    0   \n",
       "\n",
       "                                                 urls_hashed  \n",
       "CLIENT_ID                                                     \n",
       "5909886    7bbcc146c0ba4df814701ff7297b2205 1 ee0d49cbc99...  \n",
       "1385448    1889e0cbd3e343e9521a07aa312257ac 2 8253d8d3a67...  \n",
       "1866195    6e617b4bfdbef85d8b09ec08ac72f0f2 1 94309f5f116...  \n",
       "1587081    1e833434273e04ba76cfcfb4b48ad21b 3 aee71c8d18d...  \n",
       "1400908    83e85bee0d81c0e9e5047e202cddf534 3 6e617b4bfdb...  "
      ]
     },
     "execution_count": 13,
     "metadata": {},
     "output_type": "execute_result"
    }
   ],
   "source": [
    "train.index = train.CLIENT_ID\n",
    "train = train.drop(['CLIENT_ID'], axis = 1)\n",
    "train.head()"
   ]
  },
  {
   "cell_type": "code",
   "execution_count": 14,
   "id": "6ba4a064-215f-4072-b086-a793caf9b852",
   "metadata": {},
   "outputs": [
    {
     "data": {
      "text/plain": [
       "154804"
      ]
     },
     "execution_count": 14,
     "metadata": {},
     "output_type": "execute_result"
    }
   ],
   "source": [
    "test.index = test.CLIENT_ID\n",
    "test = test.drop(['CLIENT_ID'], axis = 1)\n",
    "len(test)"
   ]
  },
  {
   "cell_type": "raw",
   "id": "51f35d06-cf2b-470a-935c-a5569e0e0509",
   "metadata": {},
   "source": [
    "создадим уменьшеную выборку"
   ]
  },
  {
   "cell_type": "code",
   "execution_count": 15,
   "id": "576160a7-7b5c-461f-ab87-d0abc8aa6b0b",
   "metadata": {},
   "outputs": [],
   "source": [
    "train0 = train[:1000]"
   ]
  },
  {
   "cell_type": "raw",
   "id": "f2e799de-52a6-4635-9c41-9b68b3b7a032",
   "metadata": {},
   "source": [
    "функция для токенов"
   ]
  },
  {
   "cell_type": "code",
   "execution_count": 1,
   "id": "8c29f63a-56c7-437f-b744-86847c928493",
   "metadata": {},
   "outputs": [
    {
     "data": {
      "text/plain": [
       "13789.089895309"
      ]
     },
     "execution_count": 1,
     "metadata": {},
     "output_type": "execute_result"
    }
   ],
   "source": [
    "import pymorphy2\n",
    "morph = pymorphy2.MorphAnalyzer()\n",
    "import time\n",
    "time.perf_counter() "
   ]
  },
  {
   "cell_type": "code",
   "execution_count": 3,
   "id": "359c805c-0952-4f64-81e9-63e9207d2550",
   "metadata": {
    "tags": []
   },
   "outputs": [],
   "source": [
    "def all_tok(df):\n",
    "    words = []\n",
    "    nums = []  \n",
    "    for i in df['tokens']:\n",
    "        try: \n",
    "            words += i.split()[::2]\n",
    "            nums += i.split()[1::2]\n",
    "        except: pass\n",
    "    for i in range(len(words)):\n",
    "        words[i] = morph.parse(words[i])[0].normal_form\n",
    "        nums[i] = int(nums[i])\n",
    "        \n",
    "    df = pd.DataFrame({\"words\": np.array(words), 'nums': np.array(nums)})\n",
    "    return df\n"
   ]
  },
  {
   "cell_type": "code",
   "execution_count": 34,
   "id": "1353427e-9b60-4584-95b3-facc2bcaf43a",
   "metadata": {},
   "outputs": [
    {
     "ename": "ValueError",
     "evalue": "The column label 'nums' is not unique.\nFor a multi-index, the label must be a tuple with elements corresponding to each level.",
     "output_type": "error",
     "traceback": [
      "\u001b[0;31m---------------------------------------------------------------------------\u001b[0m",
      "\u001b[0;31mValueError\u001b[0m                                Traceback (most recent call last)",
      "Input \u001b[0;32mIn [34]\u001b[0m, in \u001b[0;36m<cell line: 2>\u001b[0;34m()\u001b[0m\n\u001b[1;32m      1\u001b[0m dft \u001b[38;5;241m=\u001b[39m df\u001b[38;5;241m.\u001b[39mgroupby([\u001b[38;5;124m'\u001b[39m\u001b[38;5;124mwords\u001b[39m\u001b[38;5;124m'\u001b[39m])\u001b[38;5;241m.\u001b[39magg([\u001b[38;5;124m'\u001b[39m\u001b[38;5;124msum\u001b[39m\u001b[38;5;124m'\u001b[39m])\u001b[38;5;241m.\u001b[39mreset_index()\n\u001b[0;32m----> 2\u001b[0m \u001b[43mdft\u001b[49m\u001b[38;5;241;43m.\u001b[39;49m\u001b[43msort_values\u001b[49m\u001b[43m(\u001b[49m\u001b[43mby\u001b[49m\u001b[38;5;241;43m=\u001b[39;49m\u001b[43m[\u001b[49m\u001b[38;5;124;43m'\u001b[39;49m\u001b[38;5;124;43mnums\u001b[39;49m\u001b[38;5;124;43m'\u001b[39;49m\u001b[43m]\u001b[49m\u001b[43m)\u001b[49m\n",
      "File \u001b[0;32m/opt/tljh/user/lib/python3.9/site-packages/pandas/util/_decorators.py:311\u001b[0m, in \u001b[0;36mdeprecate_nonkeyword_arguments.<locals>.decorate.<locals>.wrapper\u001b[0;34m(*args, **kwargs)\u001b[0m\n\u001b[1;32m    305\u001b[0m \u001b[38;5;28;01mif\u001b[39;00m \u001b[38;5;28mlen\u001b[39m(args) \u001b[38;5;241m>\u001b[39m num_allow_args:\n\u001b[1;32m    306\u001b[0m     warnings\u001b[38;5;241m.\u001b[39mwarn(\n\u001b[1;32m    307\u001b[0m         msg\u001b[38;5;241m.\u001b[39mformat(arguments\u001b[38;5;241m=\u001b[39marguments),\n\u001b[1;32m    308\u001b[0m         \u001b[38;5;167;01mFutureWarning\u001b[39;00m,\n\u001b[1;32m    309\u001b[0m         stacklevel\u001b[38;5;241m=\u001b[39mstacklevel,\n\u001b[1;32m    310\u001b[0m     )\n\u001b[0;32m--> 311\u001b[0m \u001b[38;5;28;01mreturn\u001b[39;00m \u001b[43mfunc\u001b[49m\u001b[43m(\u001b[49m\u001b[38;5;241;43m*\u001b[39;49m\u001b[43margs\u001b[49m\u001b[43m,\u001b[49m\u001b[43m \u001b[49m\u001b[38;5;241;43m*\u001b[39;49m\u001b[38;5;241;43m*\u001b[39;49m\u001b[43mkwargs\u001b[49m\u001b[43m)\u001b[49m\n",
      "File \u001b[0;32m/opt/tljh/user/lib/python3.9/site-packages/pandas/core/frame.py:6319\u001b[0m, in \u001b[0;36mDataFrame.sort_values\u001b[0;34m(self, by, axis, ascending, inplace, kind, na_position, ignore_index, key)\u001b[0m\n\u001b[1;32m   6315\u001b[0m \u001b[38;5;28;01melif\u001b[39;00m \u001b[38;5;28mlen\u001b[39m(by):\n\u001b[1;32m   6316\u001b[0m     \u001b[38;5;66;03m# len(by) == 1\u001b[39;00m\n\u001b[1;32m   6318\u001b[0m     by \u001b[38;5;241m=\u001b[39m by[\u001b[38;5;241m0\u001b[39m]\n\u001b[0;32m-> 6319\u001b[0m     k \u001b[38;5;241m=\u001b[39m \u001b[38;5;28;43mself\u001b[39;49m\u001b[38;5;241;43m.\u001b[39;49m\u001b[43m_get_label_or_level_values\u001b[49m\u001b[43m(\u001b[49m\u001b[43mby\u001b[49m\u001b[43m,\u001b[49m\u001b[43m \u001b[49m\u001b[43maxis\u001b[49m\u001b[38;5;241;43m=\u001b[39;49m\u001b[43maxis\u001b[49m\u001b[43m)\u001b[49m\n\u001b[1;32m   6321\u001b[0m     \u001b[38;5;66;03m# need to rewrap column in Series to apply key function\u001b[39;00m\n\u001b[1;32m   6322\u001b[0m     \u001b[38;5;28;01mif\u001b[39;00m key \u001b[38;5;129;01mis\u001b[39;00m \u001b[38;5;129;01mnot\u001b[39;00m \u001b[38;5;28;01mNone\u001b[39;00m:\n\u001b[1;32m   6323\u001b[0m         \u001b[38;5;66;03m# error: Incompatible types in assignment (expression has type\u001b[39;00m\n\u001b[1;32m   6324\u001b[0m         \u001b[38;5;66;03m# \"Series\", variable has type \"ndarray\")\u001b[39;00m\n",
      "File \u001b[0;32m/opt/tljh/user/lib/python3.9/site-packages/pandas/core/generic.py:1855\u001b[0m, in \u001b[0;36mNDFrame._get_label_or_level_values\u001b[0;34m(self, key, axis)\u001b[0m\n\u001b[1;32m   1852\u001b[0m         multi_message \u001b[38;5;241m=\u001b[39m \u001b[38;5;124m\"\u001b[39m\u001b[38;5;124m\"\u001b[39m\n\u001b[1;32m   1854\u001b[0m     label_axis_name \u001b[38;5;241m=\u001b[39m \u001b[38;5;124m\"\u001b[39m\u001b[38;5;124mcolumn\u001b[39m\u001b[38;5;124m\"\u001b[39m \u001b[38;5;28;01mif\u001b[39;00m axis \u001b[38;5;241m==\u001b[39m \u001b[38;5;241m0\u001b[39m \u001b[38;5;28;01melse\u001b[39;00m \u001b[38;5;124m\"\u001b[39m\u001b[38;5;124mindex\u001b[39m\u001b[38;5;124m\"\u001b[39m\n\u001b[0;32m-> 1855\u001b[0m     \u001b[38;5;28;01mraise\u001b[39;00m \u001b[38;5;167;01mValueError\u001b[39;00m(\n\u001b[1;32m   1856\u001b[0m         \u001b[38;5;124mf\u001b[39m\u001b[38;5;124m\"\u001b[39m\u001b[38;5;124mThe \u001b[39m\u001b[38;5;132;01m{\u001b[39;00mlabel_axis_name\u001b[38;5;132;01m}\u001b[39;00m\u001b[38;5;124m label \u001b[39m\u001b[38;5;124m'\u001b[39m\u001b[38;5;132;01m{\u001b[39;00mkey\u001b[38;5;132;01m}\u001b[39;00m\u001b[38;5;124m'\u001b[39m\u001b[38;5;124m is not unique.\u001b[39m\u001b[38;5;132;01m{\u001b[39;00mmulti_message\u001b[38;5;132;01m}\u001b[39;00m\u001b[38;5;124m\"\u001b[39m\n\u001b[1;32m   1857\u001b[0m     )\n\u001b[1;32m   1859\u001b[0m \u001b[38;5;28;01mreturn\u001b[39;00m values\n",
      "\u001b[0;31mValueError\u001b[0m: The column label 'nums' is not unique.\nFor a multi-index, the label must be a tuple with elements corresponding to each level."
     ]
    }
   ],
   "source": [
    "dft = df.groupby(['words']).agg(['sum']).reset_index()\n",
    "dft.sort_values(by=['nums'])"
   ]
  },
  {
   "cell_type": "code",
   "execution_count": 4,
   "id": "de26cd56-09c3-48f1-a482-3cb4bda6f52c",
   "metadata": {},
   "outputs": [],
   "source": [
    "def all_tok(df):\n",
    "    words = []\n",
    "    nums = []\n",
    "    for i in df['tokens']:\n",
    "        try: \n",
    "            words += i.split()[::2]\n",
    "            nums += i.split()[1::2]\n",
    "        except: pass\n",
    "    for i in range(len(words)):\n",
    "        words[i] = morph.parse(words[i])[0].normal_form\n",
    "        nums[i] = int(nums[i])\n",
    "    df = pd.DataFrame({\"words\": np.array(words), 'nums': np.array(nums)})\n",
    "    return df"
   ]
  },
  {
   "cell_type": "code",
   "execution_count": null,
   "id": "78cf5c67-8508-4549-b8f1-852a6f5c850e",
   "metadata": {},
   "outputs": [],
   "source": []
  },
  {
   "cell_type": "code",
   "execution_count": 84,
   "id": "78d18ba0-1f19-4b3d-bcb3-e82b85011066",
   "metadata": {},
   "outputs": [
    {
     "name": "stdout",
     "output_type": "stream",
     "text": [
      "{'форма': 2, 'мачеха': 4, 'работа': 2, 'пасынок': 3, 'горячий': 1, 'массаж': 1, 'kakaya': 1, 'tovari': 1, 'дмб': 1, 'milf': 2, 'istoriya': 1, 'парень': 4, 'хуй': 1, 'voyska': 1, 'cvet': 1, 'род': 1, 'получать': 1, 'слушать': 1, 'molodym': 1, 'porno': 3, 'телепрограмма': 1, 'видеть': 1, 'полоса': 1, 'красивый': 1, 'сделать': 1, 'горячее': 1, 'мама': 1, 'колледж': 1, 'замужний': 1, 'varit': 1, 'kendra': 1, 'brigada': 1, 'луна': 1, 'цвет': 1, 'lust': 1, 'зрелый': 12, 'зависимость': 1, 'мужик': 1, 'тельняшка': 2, 'sportivnye': 1, 'баба': 2, 'завтра': 1, 'молодой': 8, 'американский': 1, 'качество': 2, 'дом': 1, 'отличаться': 1, 'заставить': 1, 'мать': 1, 'видео': 8, 'история': 1, 'clothes': 1, 'активация': 1, 'zavisimosti': 1, 'вместо': 1, 'porn': 2, 'неделя': 1, 'летний': 1, 'бесплатно': 1, 'грудастый': 1, 'предпочитать': 1, 'смотреть': 9, 'пойти': 1, 'video': 8, 'viewmsg': 1, 'отдельный': 1, 'наказание': 1, 'беспла': 1, 'порно': 8, 'mama': 1, 'негр': 1, 'полный': 1, 'tube': 1, 'массажист': 1, 'public': 1, 'poshla': 1, 'аппетитный': 1, 'нежный': 1, 'трахаться': 1, 'сиська': 1, 'бригада': 2, 'тёплый': 1, 'mature': 5, 'член': 1, 'захотеть': 1, 'мамаша': 2, 'popular': 1, 'brigady': 1, 'ushli': 1, 'вызвать': 1, 'ranshe': 1, 'genre': 1, 'rus': 1, 'лекси': 1, 'темно': 1, 'расслабиться': 1, 'brat': 1, 'ванна': 1, 'хозяйка': 1, 'милашка': 1, 'проблема': 1, 'roditeli': 1, 'облако': 1, 'уйти': 1, 'пара': 1, 'разговор': 1, 'утром': 1, 'luna': 1, 'weather': 1, 'trusy': 1, 'групповой': 1, 'соблазнять': 1, 'tomorrow': 1, 'борщ': 1, 'speak': 1, 'русский': 6, 'сертификат': 1, 'yekaterinburg': 1, 'seksa': 1, 'гламурный': 1, 'настоящий': 1, 'bdsm': 1, 'милф': 3, 'lexi': 1, 'williams': 1, 'teen': 1, 'urban': 1, 'никто': 1, 'спортивный': 1, 'старый': 1, 'канал': 1, 'prochee': 1, 'tiger': 1, 'прелесть': 1, 'flag': 1, 'купить': 1, 'женщина': 5, 'huy': 1, 'bryuki': 1, 'квест': 1, 'ебиться': 1, 'брюки': 1, 'жанр': 1, 'соблазнить': 1, 'трус': 1, 'вдова': 1, 'трусик': 1, 'vozrasta': 1, 'dee': 1, 'выебал': 1, 'baba': 1, 'секс': 8, 'полицейский': 1, 'sisyastaya': 1, 'roda': 1, 'пошалить': 1, 'talking': 1, 'родитель': 1, 'сын': 1, 'сюжет': 1, 'выебан': 1, 'hozyayka': 1, 'chase': 1, 'войско': 1, 'принять': 1, 'надувной': 1, 'передача': 1, 'магазин': 1, 'pensionnogo': 1, 'жирный': 1, 'категория': 1, 'городской': 1, 'lamoda': 1, 'перевод': 1, 'хороший': 6, 'возрастной': 1, 'трахать': 2, 'популярный': 1, 'деревенский': 1, 'программа': 1, 'мамка': 1, 'vojsk': 1, 'брат': 1, 'студент': 1, 'ekaterinburg': 1, 'уильямс': 1, 'друг': 3, 'флаг': 1, 'ответ': 1, 'зелёный': 1}\n"
     ]
    }
   ],
   "source": [
    "def token(s):\n",
    "    lst = s.split()\n",
    "    words = lst[::2]\n",
    "    nums = lst[1::2]\n",
    "    dic = {}\n",
    "    for i in range(len(words)): \n",
    "        try: dic[morph.parse(words[i])[0].normal_form] += int(nums[i])\n",
    "        except: dic[morph.parse(words[i])[0].normal_form] = int(nums[i])\n",
    "    # print(words)\n",
    "    print(dic)\n",
    "    \n",
    "token(train0['tokens'][5909886])"
   ]
  },
  {
   "cell_type": "code",
   "execution_count": 76,
   "id": "07fb6811-7678-499c-af8c-fc9429750caa",
   "metadata": {},
   "outputs": [
    {
     "name": "stdout",
     "output_type": "stream",
     "text": [
      "{'форма': '1', 'мачеха': '2', 'работа': '1', 'пасынок': '2', 'горячий': '1', 'массаж': '1', 'kakaya': '1', 'tovari': '1', 'дмб': '1', 'milf': '2', 'istoriya': '1', 'парень': '3', 'хуй': '1', 'voyska': '1', 'cvet': '1', 'род': '1', 'получать': '1', 'слушать': '1', 'molodym': '1', 'porno': '3', 'телепрограмма': '1', 'видеть': '1', 'полоса': '1', 'красивый': '1', 'сделать': '1', 'горячее': '1', 'мама': '1', 'колледж': '1', 'замужний': '1', 'varit': '1', 'kendra': '1', 'brigada': '1', 'луна': '1', 'цвет': '1', 'lust': '1', 'зрелый': '7', 'зависимость': '1', 'мужик': '1', 'тельняшка': '1', 'sportivnye': '1', 'баба': '1', 'завтра': '1', 'молодой': '1', 'американский': '1', 'качество': '2', 'дом': '1', 'отличаться': '1', 'заставить': '1', 'мать': '1', 'видео': '8', 'история': '1', 'clothes': '1', 'активация': '1', 'zavisimosti': '1', 'вместо': '1', 'porn': '2', 'неделя': '1', 'летний': '1', 'бесплатно': '1', 'грудастый': '1', 'предпочитать': '1', 'смотреть': '1', 'пойти': '1', 'video': '8', 'viewmsg': '1', 'отдельный': '1', 'наказание': '1', 'беспла': '1', 'порно': '8', 'mama': '1', 'негр': '1', 'полный': '1', 'tube': '1', 'массажист': '1', 'public': '1', 'poshla': '1', 'аппетитный': '1', 'нежный': '1', 'трахаться': '1', 'сиська': '1', 'бригада': '1', 'тёплый': '1', 'mature': '5', 'член': '1', 'захотеть': '1', 'мамаша': '1', 'popular': '1', 'brigady': '1', 'ushli': '1', 'вызвать': '1', 'ranshe': '1', 'genre': '1', 'rus': '1', 'лекси': '1', 'темно': '1', 'расслабиться': '1', 'brat': '1', 'ванна': '1', 'хозяйка': '1', 'милашка': '1', 'проблема': '1', 'roditeli': '1', 'облако': '1', 'уйти': '1', 'пара': '1', 'разговор': '1', 'утром': '1', 'luna': '1', 'weather': '1', 'trusy': '1', 'групповой': '1', 'соблазнять': '1', 'tomorrow': '1', 'борщ': '1', 'speak': '1', 'русский': '1', 'сертификат': '1', 'yekaterinburg': '1', 'seksa': '1', 'гламурный': '1', 'настоящий': '1', 'bdsm': '1', 'милф': '1', 'lexi': '1', 'williams': '1', 'teen': '1', 'urban': '1', 'никто': '1', 'спортивный': '1', 'старый': '1', 'канал': '1', 'prochee': '1', 'tiger': '1', 'прелесть': '1', 'flag': '1', 'купить': '1', 'женщина': '5', 'huy': '1', 'bryuki': '1', 'квест': '1', 'ебиться': '1', 'брюки': '1', 'жанр': '1', 'соблазнить': '1', 'трус': '1', 'вдова': '1', 'трусик': '1', 'vozrasta': '1', 'dee': '1', 'выебал': '1', 'baba': '1', 'секс': '8', 'полицейский': '1', 'sisyastaya': '1', 'roda': '1', 'пошалить': '1', 'talking': '1', 'родитель': '1', 'сын': '1', 'сюжет': '1', 'выебан': '1', 'hozyayka': '1', 'chase': '1', 'войско': '1', 'принять': '1', 'надувной': '1', 'передача': '1', 'магазин': '1', 'pensionnogo': '1', 'жирный': '1', 'категория': '1', 'городской': '1', 'lamoda': '1', 'перевод': '1', 'хороший': '1', 'возрастной': '1', 'трахать': '2', 'популярный': '1', 'деревенский': '1', 'программа': '1', 'мамка': '1', 'vojsk': '1', 'брат': '1', 'студент': '1', 'ekaterinburg': '1', 'уильямс': '1', 'друг': '3', 'флаг': '1', 'ответ': '1', 'зелёный': '1'}\n"
     ]
    }
   ],
   "source": []
  },
  {
   "cell_type": "code",
   "execution_count": 48,
   "id": "5f47111f-3429-4ae2-9a90-b744c9a1a913",
   "metadata": {},
   "outputs": [
    {
     "data": {
      "text/plain": [
       "'yyy'"
      ]
     },
     "execution_count": 48,
     "metadata": {},
     "output_type": "execute_result"
    }
   ],
   "source": []
  },
  {
   "cell_type": "code",
   "execution_count": null,
   "id": "8cacd48a-eb29-474b-ba80-4207e61202f9",
   "metadata": {},
   "outputs": [],
   "source": []
  },
  {
   "cell_type": "code",
   "execution_count": null,
   "id": "42646a5b-8b5b-4295-b67b-ea65cfff671e",
   "metadata": {},
   "outputs": [],
   "source": []
  },
  {
   "cell_type": "code",
   "execution_count": null,
   "id": "6172731c-0567-4622-82bb-ff1c759c0782",
   "metadata": {},
   "outputs": [],
   "source": [
    "y_train.to_csv('Source/y_train.csv', index = False)\n",
    "x_train.to_csv('Source/x_train.csv', index = False)\n",
    "test.to_csv('test.csv')"
   ]
  },
  {
   "cell_type": "code",
   "execution_count": null,
   "id": "961dabad-bce5-4d6b-b2ff-1de3faa881fa",
   "metadata": {},
   "outputs": [],
   "source": [
    "def reverse_translit_2(word):\n",
    "    i = 0\n",
    "    lenght = len(word)\n",
    "    new_word = \"\"\n",
    "    while(i < lenght):\n",
    "        symbol = word[i]\n",
    "        if symbol == \"a\":\n",
    "            new_word += \"а\"\n",
    "\n",
    "        elif symbol == \"b\":\n",
    "            new_word += \"б\"\n",
    "\n",
    "        elif symbol == \"v\":\n",
    "            new_word += \"в\"\n",
    "\n",
    "        elif symbol == \"g\":\n",
    "            new_word += \"г\"\n",
    "        \n",
    "        elif symbol == \"h\":\n",
    "            new_word += \"х\"\n",
    "\n",
    "        elif symbol == \"d\":\n",
    "            new_word += \"д\"\n",
    "\n",
    "        elif symbol == \"e\":\n",
    "            if (i + 1) < lenght and word[i + 1] == \"h\":\n",
    "                new_word += \"э\"\n",
    "                i += 1\n",
    "            else:\n",
    "                new_word += \"е\"\n",
    "\n",
    "        elif symbol == \"y\":\n",
    "            if (i + 1) < lenght and word[i + 1] == \"a\":\n",
    "                new_word += \"я\"\n",
    "                i += 1\n",
    "            elif (i + 1) < lenght and word[i + 1] == \"u\":\n",
    "                new_word += \"ю\"\n",
    "                i += 1\n",
    "            elif (i + 1) < lenght and word[i + 1] == \"h\":\n",
    "                new_word += \"ь\"\n",
    "                i += 1\n",
    "            elif (i + 1) < lenght and word[i + 1] == \"o\":\n",
    "                new_word += \"ё\"\n",
    "                i += 1\n",
    "            elif (i + 1) < lenght and word[i + 1] == \"e\":\n",
    "                new_word += \"е\"\n",
    "                i += 1\n",
    "            else:\n",
    "                new_word += \"й\"\n",
    "            if (i + 2) < lenght and word[i + 1] == word[i + 2] == \"h\":\n",
    "                new_word += \"ъ\"\n",
    "                i += 2\n",
    "\n",
    "        elif symbol == \"z\":\n",
    "            if (i + 1) < lenght and word[i + 1] == \"h\":\n",
    "                new_word += \"ж\"\n",
    "                i += 1\n",
    "            else:\n",
    "                new_word += \"з\"\n",
    "\n",
    "        elif symbol == \"i\":\n",
    "            if (i + 1) < lenght and word[i + 1] == \"h\":\n",
    "                new_word += \"ы\"\n",
    "                i += 1\n",
    "            else:\n",
    "                new_word += \"и\"\n",
    "\n",
    "        elif symbol == \"k\":\n",
    "            new_word += \"к\"\n",
    "\n",
    "        elif symbol == \"l\":\n",
    "            new_word += \"л\"\n",
    "\n",
    "        elif symbol == \"m\":\n",
    "            new_word += \"м\"\n",
    "\n",
    "        elif symbol == \"n\":\n",
    "            new_word += \"н\"\n",
    "\n",
    "        elif symbol == \"o\":\n",
    "            new_word += \"о\"\n",
    "\n",
    "        elif symbol == \"p\":\n",
    "            new_word += \"п\"\n",
    "\n",
    "        elif symbol == \"r\":\n",
    "            new_word += \"р\"\n",
    "\n",
    "        elif symbol == \"s\":\n",
    "            if (i + 1) < lenght and word[i + 1] == \"h\":\n",
    "                if (i + 2) < lenght and word[i + 2] == \"h\":\n",
    "                    new_word += \"щ\"\n",
    "                    i += 2\n",
    "                else:\n",
    "                    new_word += \"ш\"\n",
    "                    i += 1\n",
    "            else:\n",
    "                    new_word += \"с\"\n",
    "\n",
    "        elif symbol == \"t\":\n",
    "            new_word += \"т\"\n",
    "\n",
    "        elif symbol == \"u\":\n",
    "            new_word += \"у\"\n",
    "\n",
    "        elif symbol == \"f\":\n",
    "            new_word += \"ф\"\n",
    "\n",
    "        elif symbol == \"c\":\n",
    "            if (i + 1) < lenght and word[i + 1] == \"h\":\n",
    "                new_word += \"ч\"\n",
    "                i += 1\n",
    "            else:\n",
    "                new_word += \"ц\"\n",
    "\n",
    "        i += 1\n",
    "    return(new_word)"
   ]
  },
  {
   "cell_type": "code",
   "execution_count": 11,
   "id": "30a0c2e5-99a8-4089-9a8c-2aee66db5ea1",
   "metadata": {},
   "outputs": [],
   "source": [
    "df_x_train = pd.read_csv(\"Source/x_train.csv\")"
   ]
  },
  {
   "cell_type": "code",
   "execution_count": null,
   "id": "bcb95db5-d64f-4709-ac3c-7d04a4c82e49",
   "metadata": {},
   "outputs": [],
   "source": [
    "res = all_tok(df_x_train[:50000])"
   ]
  },
  {
   "cell_type": "code",
   "execution_count": 14,
   "id": "eab7e375-003c-4772-a7c8-5d57d9b1ea89",
   "metadata": {},
   "outputs": [],
   "source": [
    "res.to_csv(\"Source/words5k.csv\",index= False)"
   ]
  },
  {
   "cell_type": "code",
   "execution_count": 15,
   "id": "ae96e87f-6185-44de-89e1-ea212b9297b9",
   "metadata": {},
   "outputs": [
    {
     "data": {
      "text/html": [
       "<div>\n",
       "<style scoped>\n",
       "    .dataframe tbody tr th:only-of-type {\n",
       "        vertical-align: middle;\n",
       "    }\n",
       "\n",
       "    .dataframe tbody tr th {\n",
       "        vertical-align: top;\n",
       "    }\n",
       "\n",
       "    .dataframe thead th {\n",
       "        text-align: right;\n",
       "    }\n",
       "</style>\n",
       "<table border=\"1\" class=\"dataframe\">\n",
       "  <thead>\n",
       "    <tr style=\"text-align: right;\">\n",
       "      <th></th>\n",
       "      <th>Unnamed: 0</th>\n",
       "      <th>CLIENT_ID</th>\n",
       "      <th>RETRO_DT</th>\n",
       "      <th>tokens</th>\n",
       "      <th>urls_hashed</th>\n",
       "    </tr>\n",
       "  </thead>\n",
       "  <tbody>\n",
       "    <tr>\n",
       "      <th>0</th>\n",
       "      <td>0</td>\n",
       "      <td>5909886</td>\n",
       "      <td>20200911</td>\n",
       "      <td>форм 1 мачеха 1 работы 1 пасынка 1 горячую 1 м...</td>\n",
       "      <td>7bbcc146c0ba4df814701ff7297b2205 1 ee0d49cbc99...</td>\n",
       "    </tr>\n",
       "    <tr>\n",
       "      <th>1</th>\n",
       "      <td>1</td>\n",
       "      <td>1385448</td>\n",
       "      <td>20210519</td>\n",
       "      <td>platiza 1 мобильные 2 sergej 1 code 3 отказов ...</td>\n",
       "      <td>1889e0cbd3e343e9521a07aa312257ac 2 8253d8d3a67...</td>\n",
       "    </tr>\n",
       "    <tr>\n",
       "      <th>2</th>\n",
       "      <td>2</td>\n",
       "      <td>1866195</td>\n",
       "      <td>20210913</td>\n",
       "      <td>sims 3 кредит 1 языке 1 разлива 1 огромное 1 о...</td>\n",
       "      <td>6e617b4bfdbef85d8b09ec08ac72f0f2 1 94309f5f116...</td>\n",
       "    </tr>\n",
       "    <tr>\n",
       "      <th>3</th>\n",
       "      <td>3</td>\n",
       "      <td>1587081</td>\n",
       "      <td>20210702</td>\n",
       "      <td>code 1 историй 1 scf 1 шаг 1 деньги 3 серый 1 ...</td>\n",
       "      <td>1e833434273e04ba76cfcfb4b48ad21b 3 aee71c8d18d...</td>\n",
       "    </tr>\n",
       "    <tr>\n",
       "      <th>4</th>\n",
       "      <td>4</td>\n",
       "      <td>1400908</td>\n",
       "      <td>20210522</td>\n",
       "      <td>отказов 2 tovara 1 сергея 1 купальный 1 чёрный...</td>\n",
       "      <td>83e85bee0d81c0e9e5047e202cddf534 3 6e617b4bfdb...</td>\n",
       "    </tr>\n",
       "    <tr>\n",
       "      <th>...</th>\n",
       "      <td>...</td>\n",
       "      <td>...</td>\n",
       "      <td>...</td>\n",
       "      <td>...</td>\n",
       "      <td>...</td>\n",
       "    </tr>\n",
       "    <tr>\n",
       "      <th>303772</th>\n",
       "      <td>303772</td>\n",
       "      <td>6220063</td>\n",
       "      <td>20201211</td>\n",
       "      <td>морковь 1 вред 1 описание 1 калорийность 1 пол...</td>\n",
       "      <td>2c45709d8e05171bfb39b7528e97ac5f 1 0028c3b6811...</td>\n",
       "    </tr>\n",
       "    <tr>\n",
       "      <th>303773</th>\n",
       "      <td>303773</td>\n",
       "      <td>5543361</td>\n",
       "      <td>20200507</td>\n",
       "      <td>мотылёк 1 uploader 1 photo 1 провокатор 2 смс ...</td>\n",
       "      <td>30d2c325f9f511359a476c67e1130ef5 2 18394875e74...</td>\n",
       "    </tr>\n",
       "    <tr>\n",
       "      <th>303774</th>\n",
       "      <td>303774</td>\n",
       "      <td>224227891</td>\n",
       "      <td>20211218</td>\n",
       "      <td>чёрный 1 деньги 12 бытовой 1 серый 3 маршрутов...</td>\n",
       "      <td>e7f1dd5dbad8f9535e775b21bb0b9173 1 a4dba6829fa...</td>\n",
       "    </tr>\n",
       "    <tr>\n",
       "      <th>303775</th>\n",
       "      <td>303775</td>\n",
       "      <td>5909478</td>\n",
       "      <td>20200911</td>\n",
       "      <td>kabelya 1 pesen 2 статья 2 опубликовала 1 купи...</td>\n",
       "      <td>ccbbab80c3bf2d7533e2ca1baed78073 1 503c50cb580...</td>\n",
       "    </tr>\n",
       "    <tr>\n",
       "      <th>303776</th>\n",
       "      <td>303776</td>\n",
       "      <td>5536683</td>\n",
       "      <td>20200506</td>\n",
       "      <td>smartfony 1 шины 4 итак 1 ипотеку 1 сергею 1 с...</td>\n",
       "      <td>3889d372c1b472a980a9225bc746672a 1 c11f2dc2461...</td>\n",
       "    </tr>\n",
       "  </tbody>\n",
       "</table>\n",
       "<p>303777 rows × 5 columns</p>\n",
       "</div>"
      ],
      "text/plain": [
       "        Unnamed: 0  CLIENT_ID  RETRO_DT  \\\n",
       "0                0    5909886  20200911   \n",
       "1                1    1385448  20210519   \n",
       "2                2    1866195  20210913   \n",
       "3                3    1587081  20210702   \n",
       "4                4    1400908  20210522   \n",
       "...            ...        ...       ...   \n",
       "303772      303772    6220063  20201211   \n",
       "303773      303773    5543361  20200507   \n",
       "303774      303774  224227891  20211218   \n",
       "303775      303775    5909478  20200911   \n",
       "303776      303776    5536683  20200506   \n",
       "\n",
       "                                                   tokens  \\\n",
       "0       форм 1 мачеха 1 работы 1 пасынка 1 горячую 1 м...   \n",
       "1       platiza 1 мобильные 2 sergej 1 code 3 отказов ...   \n",
       "2       sims 3 кредит 1 языке 1 разлива 1 огромное 1 о...   \n",
       "3       code 1 историй 1 scf 1 шаг 1 деньги 3 серый 1 ...   \n",
       "4       отказов 2 tovara 1 сергея 1 купальный 1 чёрный...   \n",
       "...                                                   ...   \n",
       "303772  морковь 1 вред 1 описание 1 калорийность 1 пол...   \n",
       "303773  мотылёк 1 uploader 1 photo 1 провокатор 2 смс ...   \n",
       "303774  чёрный 1 деньги 12 бытовой 1 серый 3 маршрутов...   \n",
       "303775  kabelya 1 pesen 2 статья 2 опубликовала 1 купи...   \n",
       "303776  smartfony 1 шины 4 итак 1 ипотеку 1 сергею 1 с...   \n",
       "\n",
       "                                              urls_hashed  \n",
       "0       7bbcc146c0ba4df814701ff7297b2205 1 ee0d49cbc99...  \n",
       "1       1889e0cbd3e343e9521a07aa312257ac 2 8253d8d3a67...  \n",
       "2       6e617b4bfdbef85d8b09ec08ac72f0f2 1 94309f5f116...  \n",
       "3       1e833434273e04ba76cfcfb4b48ad21b 3 aee71c8d18d...  \n",
       "4       83e85bee0d81c0e9e5047e202cddf534 3 6e617b4bfdb...  \n",
       "...                                                   ...  \n",
       "303772  2c45709d8e05171bfb39b7528e97ac5f 1 0028c3b6811...  \n",
       "303773  30d2c325f9f511359a476c67e1130ef5 2 18394875e74...  \n",
       "303774  e7f1dd5dbad8f9535e775b21bb0b9173 1 a4dba6829fa...  \n",
       "303775  ccbbab80c3bf2d7533e2ca1baed78073 1 503c50cb580...  \n",
       "303776  3889d372c1b472a980a9225bc746672a 1 c11f2dc2461...  \n",
       "\n",
       "[303777 rows x 5 columns]"
      ]
     },
     "execution_count": 15,
     "metadata": {},
     "output_type": "execute_result"
    }
   ],
   "source": [
    "df_x_train"
   ]
  },
  {
   "cell_type": "code",
   "execution_count": null,
   "id": "9b2b95a6-64ba-493f-9801-b310e84e60a4",
   "metadata": {},
   "outputs": [],
   "source": []
  }
 ],
 "metadata": {
  "kernelspec": {
   "display_name": "Python 3 (ipykernel)",
   "language": "python",
   "name": "python3"
  },
  "language_info": {
   "codemirror_mode": {
    "name": "ipython",
    "version": 3
   },
   "file_extension": ".py",
   "mimetype": "text/x-python",
   "name": "python",
   "nbconvert_exporter": "python",
   "pygments_lexer": "ipython3",
   "version": "3.9.7"
  }
 },
 "nbformat": 4,
 "nbformat_minor": 5
}
