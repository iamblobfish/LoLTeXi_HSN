{
 "cells": [
  {
   "cell_type": "code",
   "execution_count": null,
   "id": "9c9a0565-20d8-4b74-abd9-a3ccd9f86d5d",
   "metadata": {},
   "outputs": [],
   "source": [
    "import pandas as pd\n",
    "import numpy as np"
   ]
  },
  {
   "cell_type": "code",
   "execution_count": null,
   "id": "c42f84fe-d410-440f-9c12-57b1d4d4c0a4",
   "metadata": {},
   "outputs": [],
   "source": [
    "sequences = np.load('Source/sequences.npy', allow_pickle = True) "
   ]
  },
  {
   "cell_type": "code",
   "execution_count": null,
   "id": "c31c1740-9acf-4d1c-8ca3-812f49f8f595",
   "metadata": {},
   "outputs": [],
   "source": [
    "sequences.size"
   ]
  },
  {
   "cell_type": "code",
   "execution_count": null,
   "id": "e93bf0ce-54b6-4434-becc-49220776d66d",
   "metadata": {},
   "outputs": [],
   "source": [
    "synsets = pd.read_csv(\"Source/yarn-synsets.csv\")"
   ]
  }
 ],
 "metadata": {
  "kernelspec": {
   "display_name": "Python 3 (ipykernel)",
   "language": "python",
   "name": "python3"
  },
  "language_info": {
   "codemirror_mode": {
    "name": "ipython",
    "version": 3
   },
   "file_extension": ".py",
   "mimetype": "text/x-python",
   "name": "python",
   "nbconvert_exporter": "python",
   "pygments_lexer": "ipython3",
   "version": "3.9.7"
  }
 },
 "nbformat": 4,
 "nbformat_minor": 5
}
