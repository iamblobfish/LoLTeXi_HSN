{
 "cells": [
  {
   "cell_type": "code",
   "execution_count": 1,
   "id": "70d4695a-4f3d-4423-9d95-975cc4fb44f8",
   "metadata": {},
   "outputs": [],
   "source": [
    "import numpy as np\n",
    "import pandas as pd"
   ]
  },
  {
   "cell_type": "code",
   "execution_count": 4,
   "id": "e6db048e-5b18-4e4d-8a2b-c82bd54ab26e",
   "metadata": {},
   "outputs": [],
   "source": [
    "# test = pd.read_csv('Source/test.txt', delimiter='\\t')\n",
    "train = pd.read_csv('Source/train', delimiter='\\t')"
   ]
  },
  {
   "cell_type": "code",
   "execution_count": 5,
   "id": "cd9e5328-2ad1-4ea6-ad1a-36e2fb98dcef",
   "metadata": {},
   "outputs": [],
   "source": [
    "train_0 = train\n"
   ]
  },
  {
   "cell_type": "code",
   "execution_count": 6,
   "id": "72c60b1e-f4cf-47f0-a00e-24faf5462cc9",
   "metadata": {},
   "outputs": [],
   "source": [
    "# y_train = train.DEF\n",
    "# x_train = train[['CLIENT_ID', 'RETRO_DT', 'tokens', 'urls_hashed']]"
   ]
  },
  {
   "cell_type": "code",
   "execution_count": 7,
   "id": "b5b416a5-c139-4f7e-93e1-523eaa39245e",
   "metadata": {},
   "outputs": [
    {
     "data": {
      "text/html": [
       "<div>\n",
       "<style scoped>\n",
       "    .dataframe tbody tr th:only-of-type {\n",
       "        vertical-align: middle;\n",
       "    }\n",
       "\n",
       "    .dataframe tbody tr th {\n",
       "        vertical-align: top;\n",
       "    }\n",
       "\n",
       "    .dataframe thead th {\n",
       "        text-align: right;\n",
       "    }\n",
       "</style>\n",
       "<table border=\"1\" class=\"dataframe\">\n",
       "  <thead>\n",
       "    <tr style=\"text-align: right;\">\n",
       "      <th></th>\n",
       "      <th>CLIENT_ID</th>\n",
       "      <th>RETRO_DT</th>\n",
       "      <th>tokens</th>\n",
       "      <th>DEF</th>\n",
       "      <th>urls_hashed</th>\n",
       "    </tr>\n",
       "  </thead>\n",
       "  <tbody>\n",
       "    <tr>\n",
       "      <th>0</th>\n",
       "      <td>5909886</td>\n",
       "      <td>20200911</td>\n",
       "      <td>форм 1 мачеха 1 работы 1 пасынка 1 горячую 1 м...</td>\n",
       "      <td>0</td>\n",
       "      <td>7bbcc146c0ba4df814701ff7297b2205 1 ee0d49cbc99...</td>\n",
       "    </tr>\n",
       "    <tr>\n",
       "      <th>1</th>\n",
       "      <td>1385448</td>\n",
       "      <td>20210519</td>\n",
       "      <td>platiza 1 мобильные 2 sergej 1 code 3 отказов ...</td>\n",
       "      <td>1</td>\n",
       "      <td>1889e0cbd3e343e9521a07aa312257ac 2 8253d8d3a67...</td>\n",
       "    </tr>\n",
       "    <tr>\n",
       "      <th>2</th>\n",
       "      <td>1866195</td>\n",
       "      <td>20210913</td>\n",
       "      <td>sims 3 кредит 1 языке 1 разлива 1 огромное 1 о...</td>\n",
       "      <td>0</td>\n",
       "      <td>6e617b4bfdbef85d8b09ec08ac72f0f2 1 94309f5f116...</td>\n",
       "    </tr>\n",
       "    <tr>\n",
       "      <th>3</th>\n",
       "      <td>1587081</td>\n",
       "      <td>20210702</td>\n",
       "      <td>code 1 историй 1 scf 1 шаг 1 деньги 3 серый 1 ...</td>\n",
       "      <td>0</td>\n",
       "      <td>1e833434273e04ba76cfcfb4b48ad21b 3 aee71c8d18d...</td>\n",
       "    </tr>\n",
       "    <tr>\n",
       "      <th>4</th>\n",
       "      <td>1400908</td>\n",
       "      <td>20210522</td>\n",
       "      <td>отказов 2 tovara 1 сергея 1 купальный 1 чёрный...</td>\n",
       "      <td>0</td>\n",
       "      <td>83e85bee0d81c0e9e5047e202cddf534 3 6e617b4bfdb...</td>\n",
       "    </tr>\n",
       "  </tbody>\n",
       "</table>\n",
       "</div>"
      ],
      "text/plain": [
       "   CLIENT_ID  RETRO_DT                                             tokens  \\\n",
       "0    5909886  20200911  форм 1 мачеха 1 работы 1 пасынка 1 горячую 1 м...   \n",
       "1    1385448  20210519  platiza 1 мобильные 2 sergej 1 code 3 отказов ...   \n",
       "2    1866195  20210913  sims 3 кредит 1 языке 1 разлива 1 огромное 1 о...   \n",
       "3    1587081  20210702  code 1 историй 1 scf 1 шаг 1 деньги 3 серый 1 ...   \n",
       "4    1400908  20210522  отказов 2 tovara 1 сергея 1 купальный 1 чёрный...   \n",
       "\n",
       "   DEF                                        urls_hashed  \n",
       "0    0  7bbcc146c0ba4df814701ff7297b2205 1 ee0d49cbc99...  \n",
       "1    1  1889e0cbd3e343e9521a07aa312257ac 2 8253d8d3a67...  \n",
       "2    0  6e617b4bfdbef85d8b09ec08ac72f0f2 1 94309f5f116...  \n",
       "3    0  1e833434273e04ba76cfcfb4b48ad21b 3 aee71c8d18d...  \n",
       "4    0  83e85bee0d81c0e9e5047e202cddf534 3 6e617b4bfdb...  "
      ]
     },
     "execution_count": 7,
     "metadata": {},
     "output_type": "execute_result"
    }
   ],
   "source": [
    "train.head()"
   ]
  },
  {
   "cell_type": "code",
   "execution_count": 11,
   "id": "d21a917e-c61d-468c-a393-d62512efe3bc",
   "metadata": {
    "tags": []
   },
   "outputs": [
    {
     "data": {
      "text/html": [
       "<div>\n",
       "<style scoped>\n",
       "    .dataframe tbody tr th:only-of-type {\n",
       "        vertical-align: middle;\n",
       "    }\n",
       "\n",
       "    .dataframe tbody tr th {\n",
       "        vertical-align: top;\n",
       "    }\n",
       "\n",
       "    .dataframe thead th {\n",
       "        text-align: right;\n",
       "    }\n",
       "</style>\n",
       "<table border=\"1\" class=\"dataframe\">\n",
       "  <thead>\n",
       "    <tr style=\"text-align: right;\">\n",
       "      <th></th>\n",
       "      <th>CLIENT_ID</th>\n",
       "      <th>RETRO_DT</th>\n",
       "      <th>tokens</th>\n",
       "      <th>urls_hashed</th>\n",
       "    </tr>\n",
       "  </thead>\n",
       "  <tbody>\n",
       "    <tr>\n",
       "      <th>0</th>\n",
       "      <td>5467000</td>\n",
       "      <td>20200419</td>\n",
       "      <td>vezet 1 hats 2 сухого 1 деньги 1 режим 4 недел...</td>\n",
       "      <td>4104c0437f707b9f443bf845d92d3633 1 83e85bee0d8...</td>\n",
       "    </tr>\n",
       "    <tr>\n",
       "      <th>1</th>\n",
       "      <td>6093848</td>\n",
       "      <td>20201107</td>\n",
       "      <td>статью 1 month 4 udobreniya 1 podkormka 1 акту...</td>\n",
       "      <td>db0853001fff2bbe88cb5fa709d8077e 1 6e617b4bfdb...</td>\n",
       "    </tr>\n",
       "    <tr>\n",
       "      <th>2</th>\n",
       "      <td>5269916</td>\n",
       "      <td>20200305</td>\n",
       "      <td>zdorovye 2 мобильные 1 снять 2 tovara 1 платье...</td>\n",
       "      <td>1889e0cbd3e343e9521a07aa312257ac 2 aee71c8d18d...</td>\n",
       "    </tr>\n",
       "    <tr>\n",
       "      <th>3</th>\n",
       "      <td>816015821</td>\n",
       "      <td>20220115</td>\n",
       "      <td>шины 1 воздушный 1 вкусных 1 эскудо 1 сухого 1...</td>\n",
       "      <td>aee71c8d18d6b91b36bf599208a91777 7 6754d470b22...</td>\n",
       "    </tr>\n",
       "    <tr>\n",
       "      <th>4</th>\n",
       "      <td>223498561</td>\n",
       "      <td>20211204</td>\n",
       "      <td>купить 2 blyudo 2 юрист 2 sekretnye 2 funktsii...</td>\n",
       "      <td>1246f8d1136a114c448c1b2565e16698 2 0f7f6a4507e...</td>\n",
       "    </tr>\n",
       "  </tbody>\n",
       "</table>\n",
       "</div>"
      ],
      "text/plain": [
       "   CLIENT_ID  RETRO_DT                                             tokens  \\\n",
       "0    5467000  20200419  vezet 1 hats 2 сухого 1 деньги 1 режим 4 недел...   \n",
       "1    6093848  20201107  статью 1 month 4 udobreniya 1 podkormka 1 акту...   \n",
       "2    5269916  20200305  zdorovye 2 мобильные 1 снять 2 tovara 1 платье...   \n",
       "3  816015821  20220115  шины 1 воздушный 1 вкусных 1 эскудо 1 сухого 1...   \n",
       "4  223498561  20211204  купить 2 blyudo 2 юрист 2 sekretnye 2 funktsii...   \n",
       "\n",
       "                                         urls_hashed  \n",
       "0  4104c0437f707b9f443bf845d92d3633 1 83e85bee0d8...  \n",
       "1  db0853001fff2bbe88cb5fa709d8077e 1 6e617b4bfdb...  \n",
       "2  1889e0cbd3e343e9521a07aa312257ac 2 aee71c8d18d...  \n",
       "3  aee71c8d18d6b91b36bf599208a91777 7 6754d470b22...  \n",
       "4  1246f8d1136a114c448c1b2565e16698 2 0f7f6a4507e...  "
      ]
     },
     "execution_count": 11,
     "metadata": {},
     "output_type": "execute_result"
    }
   ],
   "source": [
    "test.head()"
   ]
  },
  {
   "cell_type": "raw",
   "id": "e99745cf-caf9-4d2d-a41e-74d8a9e8e147",
   "metadata": {},
   "source": [
    "проверка уникальности id"
   ]
  },
  {
   "cell_type": "code",
   "execution_count": 12,
   "id": "eba3f1b6-b40d-42a0-b6ff-2bebd6057d92",
   "metadata": {},
   "outputs": [
    {
     "name": "stdout",
     "output_type": "stream",
     "text": [
      "458581\n",
      "458581\n"
     ]
    }
   ],
   "source": [
    "print(len(list(train['CLIENT_ID'].unique())+ list(test['CLIENT_ID'].unique())))\n",
    "print(len(set(list(train['CLIENT_ID'].unique())+ list(test['CLIENT_ID'].unique()))))"
   ]
  },
  {
   "cell_type": "raw",
   "id": "c997cd79-80ad-4adc-ae38-edc9cf773e92",
   "metadata": {},
   "source": [
    "id уникален"
   ]
  },
  {
   "cell_type": "code",
   "execution_count": 8,
   "id": "5f440631-5723-4f60-b23b-6495fd6fba6f",
   "metadata": {},
   "outputs": [
    {
     "data": {
      "text/html": [
       "<div>\n",
       "<style scoped>\n",
       "    .dataframe tbody tr th:only-of-type {\n",
       "        vertical-align: middle;\n",
       "    }\n",
       "\n",
       "    .dataframe tbody tr th {\n",
       "        vertical-align: top;\n",
       "    }\n",
       "\n",
       "    .dataframe thead th {\n",
       "        text-align: right;\n",
       "    }\n",
       "</style>\n",
       "<table border=\"1\" class=\"dataframe\">\n",
       "  <thead>\n",
       "    <tr style=\"text-align: right;\">\n",
       "      <th></th>\n",
       "      <th>RETRO_DT</th>\n",
       "      <th>tokens</th>\n",
       "      <th>DEF</th>\n",
       "      <th>urls_hashed</th>\n",
       "    </tr>\n",
       "    <tr>\n",
       "      <th>CLIENT_ID</th>\n",
       "      <th></th>\n",
       "      <th></th>\n",
       "      <th></th>\n",
       "      <th></th>\n",
       "    </tr>\n",
       "  </thead>\n",
       "  <tbody>\n",
       "    <tr>\n",
       "      <th>5909886</th>\n",
       "      <td>20200911</td>\n",
       "      <td>форм 1 мачеха 1 работы 1 пасынка 1 горячую 1 м...</td>\n",
       "      <td>0</td>\n",
       "      <td>7bbcc146c0ba4df814701ff7297b2205 1 ee0d49cbc99...</td>\n",
       "    </tr>\n",
       "    <tr>\n",
       "      <th>1385448</th>\n",
       "      <td>20210519</td>\n",
       "      <td>platiza 1 мобильные 2 sergej 1 code 3 отказов ...</td>\n",
       "      <td>1</td>\n",
       "      <td>1889e0cbd3e343e9521a07aa312257ac 2 8253d8d3a67...</td>\n",
       "    </tr>\n",
       "    <tr>\n",
       "      <th>1866195</th>\n",
       "      <td>20210913</td>\n",
       "      <td>sims 3 кредит 1 языке 1 разлива 1 огромное 1 о...</td>\n",
       "      <td>0</td>\n",
       "      <td>6e617b4bfdbef85d8b09ec08ac72f0f2 1 94309f5f116...</td>\n",
       "    </tr>\n",
       "    <tr>\n",
       "      <th>1587081</th>\n",
       "      <td>20210702</td>\n",
       "      <td>code 1 историй 1 scf 1 шаг 1 деньги 3 серый 1 ...</td>\n",
       "      <td>0</td>\n",
       "      <td>1e833434273e04ba76cfcfb4b48ad21b 3 aee71c8d18d...</td>\n",
       "    </tr>\n",
       "    <tr>\n",
       "      <th>1400908</th>\n",
       "      <td>20210522</td>\n",
       "      <td>отказов 2 tovara 1 сергея 1 купальный 1 чёрный...</td>\n",
       "      <td>0</td>\n",
       "      <td>83e85bee0d81c0e9e5047e202cddf534 3 6e617b4bfdb...</td>\n",
       "    </tr>\n",
       "  </tbody>\n",
       "</table>\n",
       "</div>"
      ],
      "text/plain": [
       "           RETRO_DT                                             tokens  DEF  \\\n",
       "CLIENT_ID                                                                     \n",
       "5909886    20200911  форм 1 мачеха 1 работы 1 пасынка 1 горячую 1 м...    0   \n",
       "1385448    20210519  platiza 1 мобильные 2 sergej 1 code 3 отказов ...    1   \n",
       "1866195    20210913  sims 3 кредит 1 языке 1 разлива 1 огромное 1 о...    0   \n",
       "1587081    20210702  code 1 историй 1 scf 1 шаг 1 деньги 3 серый 1 ...    0   \n",
       "1400908    20210522  отказов 2 tovara 1 сергея 1 купальный 1 чёрный...    0   \n",
       "\n",
       "                                                 urls_hashed  \n",
       "CLIENT_ID                                                     \n",
       "5909886    7bbcc146c0ba4df814701ff7297b2205 1 ee0d49cbc99...  \n",
       "1385448    1889e0cbd3e343e9521a07aa312257ac 2 8253d8d3a67...  \n",
       "1866195    6e617b4bfdbef85d8b09ec08ac72f0f2 1 94309f5f116...  \n",
       "1587081    1e833434273e04ba76cfcfb4b48ad21b 3 aee71c8d18d...  \n",
       "1400908    83e85bee0d81c0e9e5047e202cddf534 3 6e617b4bfdb...  "
      ]
     },
     "execution_count": 8,
     "metadata": {},
     "output_type": "execute_result"
    }
   ],
   "source": [
    "train.index = train.CLIENT_ID\n",
    "train = train.drop(['CLIENT_ID'], axis = 1)\n",
    "train.head()"
   ]
  },
  {
   "cell_type": "code",
   "execution_count": 14,
   "id": "6ba4a064-215f-4072-b086-a793caf9b852",
   "metadata": {},
   "outputs": [
    {
     "data": {
      "text/plain": [
       "154804"
      ]
     },
     "execution_count": 14,
     "metadata": {},
     "output_type": "execute_result"
    }
   ],
   "source": [
    "test.index = test.CLIENT_ID\n",
    "test = test.drop(['CLIENT_ID'], axis = 1)\n",
    "len(test)"
   ]
  },
  {
   "cell_type": "raw",
   "id": "51f35d06-cf2b-470a-935c-a5569e0e0509",
   "metadata": {},
   "source": [
    "создадим уменьшеную выборку"
   ]
  },
  {
   "cell_type": "code",
   "execution_count": 9,
   "id": "576160a7-7b5c-461f-ab87-d0abc8aa6b0b",
   "metadata": {},
   "outputs": [],
   "source": [
    "train0 = train[:1000]"
   ]
  },
  {
   "cell_type": "raw",
   "id": "f2e799de-52a6-4635-9c41-9b68b3b7a032",
   "metadata": {},
   "source": [
    "функция для токенов"
   ]
  },
  {
   "cell_type": "code",
   "execution_count": 10,
   "id": "8c29f63a-56c7-437f-b744-86847c928493",
   "metadata": {},
   "outputs": [
    {
     "data": {
      "text/plain": [
       "17959.269434957"
      ]
     },
     "execution_count": 10,
     "metadata": {},
     "output_type": "execute_result"
    }
   ],
   "source": [
    "import pymorphy2\n",
    "morph = pymorphy2.MorphAnalyzer()\n",
    "import time\n",
    "time.perf_counter() "
   ]
  },
  {
   "cell_type": "code",
   "execution_count": 11,
   "id": "359c805c-0952-4f64-81e9-63e9207d2550",
   "metadata": {
    "tags": []
   },
   "outputs": [
    {
     "name": "stdout",
     "output_type": "stream",
     "text": [
      "65.03526538600272\n"
     ]
    },
    {
     "data": {
      "text/html": [
       "<div>\n",
       "<style scoped>\n",
       "    .dataframe tbody tr th:only-of-type {\n",
       "        vertical-align: middle;\n",
       "    }\n",
       "\n",
       "    .dataframe tbody tr th {\n",
       "        vertical-align: top;\n",
       "    }\n",
       "\n",
       "    .dataframe thead th {\n",
       "        text-align: right;\n",
       "    }\n",
       "</style>\n",
       "<table border=\"1\" class=\"dataframe\">\n",
       "  <thead>\n",
       "    <tr style=\"text-align: right;\">\n",
       "      <th></th>\n",
       "      <th>words</th>\n",
       "      <th>nums</th>\n",
       "    </tr>\n",
       "  </thead>\n",
       "  <tbody>\n",
       "    <tr>\n",
       "      <th>0</th>\n",
       "      <td>форма</td>\n",
       "      <td>1</td>\n",
       "    </tr>\n",
       "    <tr>\n",
       "      <th>1</th>\n",
       "      <td>мачеха</td>\n",
       "      <td>1</td>\n",
       "    </tr>\n",
       "    <tr>\n",
       "      <th>2</th>\n",
       "      <td>работа</td>\n",
       "      <td>1</td>\n",
       "    </tr>\n",
       "    <tr>\n",
       "      <th>3</th>\n",
       "      <td>пасынок</td>\n",
       "      <td>1</td>\n",
       "    </tr>\n",
       "    <tr>\n",
       "      <th>4</th>\n",
       "      <td>горячий</td>\n",
       "      <td>1</td>\n",
       "    </tr>\n",
       "    <tr>\n",
       "      <th>...</th>\n",
       "      <td>...</td>\n",
       "      <td>...</td>\n",
       "    </tr>\n",
       "    <tr>\n",
       "      <th>642292</th>\n",
       "      <td>отправление</td>\n",
       "      <td>1</td>\n",
       "    </tr>\n",
       "    <tr>\n",
       "      <th>642293</th>\n",
       "      <td>sdat</td>\n",
       "      <td>2</td>\n",
       "    </tr>\n",
       "    <tr>\n",
       "      <th>642294</th>\n",
       "      <td>otets</td>\n",
       "      <td>1</td>\n",
       "    </tr>\n",
       "    <tr>\n",
       "      <th>642295</th>\n",
       "      <td>god</td>\n",
       "      <td>2</td>\n",
       "    </tr>\n",
       "    <tr>\n",
       "      <th>642296</th>\n",
       "      <td>ответ</td>\n",
       "      <td>1</td>\n",
       "    </tr>\n",
       "  </tbody>\n",
       "</table>\n",
       "<p>642297 rows × 2 columns</p>\n",
       "</div>"
      ],
      "text/plain": [
       "              words  nums\n",
       "0             форма     1\n",
       "1            мачеха     1\n",
       "2            работа     1\n",
       "3           пасынок     1\n",
       "4           горячий     1\n",
       "...             ...   ...\n",
       "642292  отправление     1\n",
       "642293         sdat     2\n",
       "642294        otets     1\n",
       "642295          god     2\n",
       "642296        ответ     1\n",
       "\n",
       "[642297 rows x 2 columns]"
      ]
     },
     "execution_count": 11,
     "metadata": {},
     "output_type": "execute_result"
    }
   ],
   "source": [
    "def all_tok(df):\n",
    "    words = []\n",
    "    nums = []  \n",
    "    for i in df['tokens']:\n",
    "        try: \n",
    "            words += i.split()[::2]\n",
    "            nums += i.split()[1::2]\n",
    "        except: pass\n",
    "    for i in range(len(words)):\n",
    "        words[i] = morph.parse(words[i])[0].normal_form\n",
    "        nums[i] = int(nums[i])\n",
    "        \n",
    "    df = pd.DataFrame({\"words\": np.array(words), 'nums': np.array(nums)})\n",
    "    return df\n",
    "s = time.perf_counter() \n",
    "df = all_tok(train0)\n",
    "print(time.perf_counter()-s)\n",
    "df"
   ]
  },
  {
   "cell_type": "code",
   "execution_count": 16,
   "id": "1353427e-9b60-4584-95b3-facc2bcaf43a",
   "metadata": {},
   "outputs": [],
   "source": [
    "dft = df.groupby(['words'])['nums'].agg('sum').reset_index()\n",
    "w_all = np.array(dft.sort_values(['nums'], ascending=0)['words'])"
   ]
  },
  {
   "cell_type": "code",
   "execution_count": 23,
   "id": "1297276e-317d-4c7a-8522-865e3cb26475",
   "metadata": {},
   "outputs": [
    {
     "data": {
      "text/html": [
       "<div>\n",
       "<style scoped>\n",
       "    .dataframe tbody tr th:only-of-type {\n",
       "        vertical-align: middle;\n",
       "    }\n",
       "\n",
       "    .dataframe tbody tr th {\n",
       "        vertical-align: top;\n",
       "    }\n",
       "\n",
       "    .dataframe thead th {\n",
       "        text-align: right;\n",
       "    }\n",
       "</style>\n",
       "<table border=\"1\" class=\"dataframe\">\n",
       "  <thead>\n",
       "    <tr style=\"text-align: right;\">\n",
       "      <th></th>\n",
       "      <th>words</th>\n",
       "      <th>nums</th>\n",
       "    </tr>\n",
       "  </thead>\n",
       "  <tbody>\n",
       "    <tr>\n",
       "      <th>18731</th>\n",
       "      <td>short</td>\n",
       "      <td>547</td>\n",
       "    </tr>\n",
       "    <tr>\n",
       "      <th>11870</th>\n",
       "      <td>native</td>\n",
       "      <td>547</td>\n",
       "    </tr>\n",
       "  </tbody>\n",
       "</table>\n",
       "</div>"
      ],
      "text/plain": [
       "        words  nums\n",
       "18731   short   547\n",
       "11870  native   547"
      ]
     },
     "execution_count": 23,
     "metadata": {},
     "output_type": "execute_result"
    }
   ],
   "source": [
    "dft.sort_values(['nums'], ascending=0)[500:502]"
   ]
  },
  {
   "cell_type": "code",
   "execution_count": 56,
   "id": "5f7c7bef-670c-4aa9-9a46-048cf2b22e59",
   "metadata": {},
   "outputs": [],
   "source": [
    "train1 = train[train.DEF==1]\n",
    "train1 = train1[:5000]"
   ]
  },
  {
   "cell_type": "code",
   "execution_count": 57,
   "id": "8114eb9a-7c30-40f3-8d63-d399486ea209",
   "metadata": {},
   "outputs": [],
   "source": [
    "df = all_tok(train1)\n",
    "dft = df.groupby(['words'])['nums'].agg('sum').reset_index()\n",
    "w_1 = np.array(dft.sort_values(['nums'], ascending=0)['words'])"
   ]
  },
  {
   "cell_type": "code",
   "execution_count": 58,
   "id": "266bbc25-95e1-4255-9a84-96bde4e0ab79",
   "metadata": {},
   "outputs": [],
   "source": [
    "train2 = train[train.DEF==0]\n",
    "train2 = train2[:5000]\n",
    "df = all_tok(train2)\n",
    "dft = df.groupby(['words'])['nums'].agg('sum').reset_index()\n",
    "w_2 = np.array(dft.sort_values(['nums'], ascending=0)['words'])"
   ]
  },
  {
   "cell_type": "code",
   "execution_count": 59,
   "id": "d091cf2d-ca8c-49d9-9685-5f6abca69b78",
   "metadata": {},
   "outputs": [
    {
     "data": {
      "text/plain": [
       "array(['заём', 'карта', 'смотреть', 'новость', 'купить', 'магазин',\n",
       "       'личный', 'цена', 'кабинет', 'новый', 'россия', 'почта'],\n",
       "      dtype=object)"
      ]
     },
     "execution_count": 59,
     "metadata": {},
     "output_type": "execute_result"
    }
   ],
   "source": [
    "w_2[:12]"
   ]
  },
  {
   "cell_type": "code",
   "execution_count": 60,
   "id": "6e0727f4-0994-480d-86ca-d24a370c7e0c",
   "metadata": {},
   "outputs": [
    {
     "data": {
      "text/plain": [
       "array(['заём', 'карта', 'личный', 'смотреть', 'кабинет', 'embed', 'новый',\n",
       "       'бесплатно', 'россия', 'купить', 'новость', 'заявка'], dtype=object)"
      ]
     },
     "execution_count": 60,
     "metadata": {},
     "output_type": "execute_result"
    }
   ],
   "source": [
    "w_1[:12]"
   ]
  },
  {
   "cell_type": "code",
   "execution_count": 29,
   "id": "de501ac1-02d0-4452-a9df-067f5f6883b3",
   "metadata": {},
   "outputs": [
    {
     "data": {
      "text/plain": [
       "array(['заём', 'карта', 'личный', 'embed', 'кабинет', 'смотреть',\n",
       "       'купить', 'россия', 'магазин', 'новый', 'цена', 'новость'],\n",
       "      dtype=object)"
      ]
     },
     "execution_count": 29,
     "metadata": {},
     "output_type": "execute_result"
    }
   ],
   "source": [
    "w_all[:12]"
   ]
  },
  {
   "cell_type": "code",
   "execution_count": 55,
   "id": "9d387206-2b8e-401d-bea1-e5079a52ca6f",
   "metadata": {},
   "outputs": [
    {
     "data": {
      "text/plain": [
       "{'client', 'билет', 'деньга', 'оформить'}"
      ]
     },
     "execution_count": 55,
     "metadata": {},
     "output_type": "execute_result"
    }
   ],
   "source": [
    "set(w_1[:30])-set(w_2[:30])"
   ]
  },
  {
   "cell_type": "code",
   "execution_count": null,
   "id": "de26cd56-09c3-48f1-a482-3cb4bda6f52c",
   "metadata": {},
   "outputs": [],
   "source": [
    "def all_tok(df):\n",
    "    words = []\n",
    "    nums = []\n",
    "    for i in df['tokens']:\n",
    "        try: \n",
    "            words += i.split()[::2]\n",
    "            nums += i.split()[1::2]\n",
    "        except: pass\n",
    "    for i in range(len(words)):\n",
    "        words[i] = morph.parse(words[i])[0].normal_form\n",
    "        nums[i] = int(nums[i])\n",
    "    df = pd.DataFrame({\"words\": np.array(words), 'nums': np.array(nums)})\n",
    "    return df"
   ]
  },
  {
   "cell_type": "code",
   "execution_count": null,
   "id": "78cf5c67-8508-4549-b8f1-852a6f5c850e",
   "metadata": {},
   "outputs": [],
   "source": []
  },
  {
   "cell_type": "code",
   "execution_count": 84,
   "id": "78d18ba0-1f19-4b3d-bcb3-e82b85011066",
   "metadata": {},
   "outputs": [
    {
     "name": "stdout",
     "output_type": "stream",
     "text": [
      "{'форма': 2, 'мачеха': 4, 'работа': 2, 'пасынок': 3, 'горячий': 1, 'массаж': 1, 'kakaya': 1, 'tovari': 1, 'дмб': 1, 'milf': 2, 'istoriya': 1, 'парень': 4, 'хуй': 1, 'voyska': 1, 'cvet': 1, 'род': 1, 'получать': 1, 'слушать': 1, 'molodym': 1, 'porno': 3, 'телепрограмма': 1, 'видеть': 1, 'полоса': 1, 'красивый': 1, 'сделать': 1, 'горячее': 1, 'мама': 1, 'колледж': 1, 'замужний': 1, 'varit': 1, 'kendra': 1, 'brigada': 1, 'луна': 1, 'цвет': 1, 'lust': 1, 'зрелый': 12, 'зависимость': 1, 'мужик': 1, 'тельняшка': 2, 'sportivnye': 1, 'баба': 2, 'завтра': 1, 'молодой': 8, 'американский': 1, 'качество': 2, 'дом': 1, 'отличаться': 1, 'заставить': 1, 'мать': 1, 'видео': 8, 'история': 1, 'clothes': 1, 'активация': 1, 'zavisimosti': 1, 'вместо': 1, 'porn': 2, 'неделя': 1, 'летний': 1, 'бесплатно': 1, 'грудастый': 1, 'предпочитать': 1, 'смотреть': 9, 'пойти': 1, 'video': 8, 'viewmsg': 1, 'отдельный': 1, 'наказание': 1, 'беспла': 1, 'порно': 8, 'mama': 1, 'негр': 1, 'полный': 1, 'tube': 1, 'массажист': 1, 'public': 1, 'poshla': 1, 'аппетитный': 1, 'нежный': 1, 'трахаться': 1, 'сиська': 1, 'бригада': 2, 'тёплый': 1, 'mature': 5, 'член': 1, 'захотеть': 1, 'мамаша': 2, 'popular': 1, 'brigady': 1, 'ushli': 1, 'вызвать': 1, 'ranshe': 1, 'genre': 1, 'rus': 1, 'лекси': 1, 'темно': 1, 'расслабиться': 1, 'brat': 1, 'ванна': 1, 'хозяйка': 1, 'милашка': 1, 'проблема': 1, 'roditeli': 1, 'облако': 1, 'уйти': 1, 'пара': 1, 'разговор': 1, 'утром': 1, 'luna': 1, 'weather': 1, 'trusy': 1, 'групповой': 1, 'соблазнять': 1, 'tomorrow': 1, 'борщ': 1, 'speak': 1, 'русский': 6, 'сертификат': 1, 'yekaterinburg': 1, 'seksa': 1, 'гламурный': 1, 'настоящий': 1, 'bdsm': 1, 'милф': 3, 'lexi': 1, 'williams': 1, 'teen': 1, 'urban': 1, 'никто': 1, 'спортивный': 1, 'старый': 1, 'канал': 1, 'prochee': 1, 'tiger': 1, 'прелесть': 1, 'flag': 1, 'купить': 1, 'женщина': 5, 'huy': 1, 'bryuki': 1, 'квест': 1, 'ебиться': 1, 'брюки': 1, 'жанр': 1, 'соблазнить': 1, 'трус': 1, 'вдова': 1, 'трусик': 1, 'vozrasta': 1, 'dee': 1, 'выебал': 1, 'baba': 1, 'секс': 8, 'полицейский': 1, 'sisyastaya': 1, 'roda': 1, 'пошалить': 1, 'talking': 1, 'родитель': 1, 'сын': 1, 'сюжет': 1, 'выебан': 1, 'hozyayka': 1, 'chase': 1, 'войско': 1, 'принять': 1, 'надувной': 1, 'передача': 1, 'магазин': 1, 'pensionnogo': 1, 'жирный': 1, 'категория': 1, 'городской': 1, 'lamoda': 1, 'перевод': 1, 'хороший': 6, 'возрастной': 1, 'трахать': 2, 'популярный': 1, 'деревенский': 1, 'программа': 1, 'мамка': 1, 'vojsk': 1, 'брат': 1, 'студент': 1, 'ekaterinburg': 1, 'уильямс': 1, 'друг': 3, 'флаг': 1, 'ответ': 1, 'зелёный': 1}\n"
     ]
    }
   ],
   "source": [
    "def token(s):\n",
    "    lst = s.split()\n",
    "    words = lst[::2]\n",
    "    nums = lst[1::2]\n",
    "    dic = {}\n",
    "    for i in range(len(words)): \n",
    "        try: dic[morph.parse(words[i])[0].normal_form] += int(nums[i])\n",
    "        except: dic[morph.parse(words[i])[0].normal_form] = int(nums[i])\n",
    "    # print(words)\n",
    "    print(dic)\n",
    "    \n",
    "token(train0['tokens'][5909886])"
   ]
  },
  {
   "cell_type": "code",
   "execution_count": 76,
   "id": "07fb6811-7678-499c-af8c-fc9429750caa",
   "metadata": {},
   "outputs": [
    {
     "name": "stdout",
     "output_type": "stream",
     "text": [
      "{'форма': '1', 'мачеха': '2', 'работа': '1', 'пасынок': '2', 'горячий': '1', 'массаж': '1', 'kakaya': '1', 'tovari': '1', 'дмб': '1', 'milf': '2', 'istoriya': '1', 'парень': '3', 'хуй': '1', 'voyska': '1', 'cvet': '1', 'род': '1', 'получать': '1', 'слушать': '1', 'molodym': '1', 'porno': '3', 'телепрограмма': '1', 'видеть': '1', 'полоса': '1', 'красивый': '1', 'сделать': '1', 'горячее': '1', 'мама': '1', 'колледж': '1', 'замужний': '1', 'varit': '1', 'kendra': '1', 'brigada': '1', 'луна': '1', 'цвет': '1', 'lust': '1', 'зрелый': '7', 'зависимость': '1', 'мужик': '1', 'тельняшка': '1', 'sportivnye': '1', 'баба': '1', 'завтра': '1', 'молодой': '1', 'американский': '1', 'качество': '2', 'дом': '1', 'отличаться': '1', 'заставить': '1', 'мать': '1', 'видео': '8', 'история': '1', 'clothes': '1', 'активация': '1', 'zavisimosti': '1', 'вместо': '1', 'porn': '2', 'неделя': '1', 'летний': '1', 'бесплатно': '1', 'грудастый': '1', 'предпочитать': '1', 'смотреть': '1', 'пойти': '1', 'video': '8', 'viewmsg': '1', 'отдельный': '1', 'наказание': '1', 'беспла': '1', 'порно': '8', 'mama': '1', 'негр': '1', 'полный': '1', 'tube': '1', 'массажист': '1', 'public': '1', 'poshla': '1', 'аппетитный': '1', 'нежный': '1', 'трахаться': '1', 'сиська': '1', 'бригада': '1', 'тёплый': '1', 'mature': '5', 'член': '1', 'захотеть': '1', 'мамаша': '1', 'popular': '1', 'brigady': '1', 'ushli': '1', 'вызвать': '1', 'ranshe': '1', 'genre': '1', 'rus': '1', 'лекси': '1', 'темно': '1', 'расслабиться': '1', 'brat': '1', 'ванна': '1', 'хозяйка': '1', 'милашка': '1', 'проблема': '1', 'roditeli': '1', 'облако': '1', 'уйти': '1', 'пара': '1', 'разговор': '1', 'утром': '1', 'luna': '1', 'weather': '1', 'trusy': '1', 'групповой': '1', 'соблазнять': '1', 'tomorrow': '1', 'борщ': '1', 'speak': '1', 'русский': '1', 'сертификат': '1', 'yekaterinburg': '1', 'seksa': '1', 'гламурный': '1', 'настоящий': '1', 'bdsm': '1', 'милф': '1', 'lexi': '1', 'williams': '1', 'teen': '1', 'urban': '1', 'никто': '1', 'спортивный': '1', 'старый': '1', 'канал': '1', 'prochee': '1', 'tiger': '1', 'прелесть': '1', 'flag': '1', 'купить': '1', 'женщина': '5', 'huy': '1', 'bryuki': '1', 'квест': '1', 'ебиться': '1', 'брюки': '1', 'жанр': '1', 'соблазнить': '1', 'трус': '1', 'вдова': '1', 'трусик': '1', 'vozrasta': '1', 'dee': '1', 'выебал': '1', 'baba': '1', 'секс': '8', 'полицейский': '1', 'sisyastaya': '1', 'roda': '1', 'пошалить': '1', 'talking': '1', 'родитель': '1', 'сын': '1', 'сюжет': '1', 'выебан': '1', 'hozyayka': '1', 'chase': '1', 'войско': '1', 'принять': '1', 'надувной': '1', 'передача': '1', 'магазин': '1', 'pensionnogo': '1', 'жирный': '1', 'категория': '1', 'городской': '1', 'lamoda': '1', 'перевод': '1', 'хороший': '1', 'возрастной': '1', 'трахать': '2', 'популярный': '1', 'деревенский': '1', 'программа': '1', 'мамка': '1', 'vojsk': '1', 'брат': '1', 'студент': '1', 'ekaterinburg': '1', 'уильямс': '1', 'друг': '3', 'флаг': '1', 'ответ': '1', 'зелёный': '1'}\n"
     ]
    }
   ],
   "source": []
  },
  {
   "cell_type": "code",
   "execution_count": 48,
   "id": "5f47111f-3429-4ae2-9a90-b744c9a1a913",
   "metadata": {},
   "outputs": [
    {
     "data": {
      "text/plain": [
       "'yyy'"
      ]
     },
     "execution_count": 48,
     "metadata": {},
     "output_type": "execute_result"
    }
   ],
   "source": []
  },
  {
   "cell_type": "code",
   "execution_count": null,
   "id": "8cacd48a-eb29-474b-ba80-4207e61202f9",
   "metadata": {},
   "outputs": [],
   "source": []
  },
  {
   "cell_type": "code",
   "execution_count": null,
   "id": "42646a5b-8b5b-4295-b67b-ea65cfff671e",
   "metadata": {},
   "outputs": [],
   "source": []
  },
  {
   "cell_type": "code",
   "execution_count": null,
   "id": "6172731c-0567-4622-82bb-ff1c759c0782",
   "metadata": {},
   "outputs": [],
   "source": [
    "y_train.to_csv('Source/y_train.csv', index = False)\n",
    "x_train.to_csv('Source/x_train.csv', index = False)\n",
    "test.to_csv('test.csv')"
   ]
  },
  {
   "cell_type": "code",
   "execution_count": null,
   "id": "961dabad-bce5-4d6b-b2ff-1de3faa881fa",
   "metadata": {},
   "outputs": [],
   "source": [
    "def reverse_translit_2(word):\n",
    "    i = 0\n",
    "    lenght = len(word)\n",
    "    new_word = \"\"\n",
    "    while(i < lenght):\n",
    "        symbol = word[i]\n",
    "        if symbol == \"a\":\n",
    "            new_word += \"а\"\n",
    "\n",
    "        elif symbol == \"b\":\n",
    "            new_word += \"б\"\n",
    "\n",
    "        elif symbol == \"v\":\n",
    "            new_word += \"в\"\n",
    "\n",
    "        elif symbol == \"g\":\n",
    "            new_word += \"г\"\n",
    "        \n",
    "        elif symbol == \"h\":\n",
    "            new_word += \"х\"\n",
    "\n",
    "        elif symbol == \"d\":\n",
    "            new_word += \"д\"\n",
    "\n",
    "        elif symbol == \"e\":\n",
    "            if (i + 1) < lenght and word[i + 1] == \"h\":\n",
    "                new_word += \"э\"\n",
    "                i += 1\n",
    "            else:\n",
    "                new_word += \"е\"\n",
    "\n",
    "        elif symbol == \"y\":\n",
    "            if (i + 1) < lenght and word[i + 1] == \"a\":\n",
    "                new_word += \"я\"\n",
    "                i += 1\n",
    "            elif (i + 1) < lenght and word[i + 1] == \"u\":\n",
    "                new_word += \"ю\"\n",
    "                i += 1\n",
    "            elif (i + 1) < lenght and word[i + 1] == \"h\":\n",
    "                new_word += \"ь\"\n",
    "                i += 1\n",
    "            elif (i + 1) < lenght and word[i + 1] == \"o\":\n",
    "                new_word += \"ё\"\n",
    "                i += 1\n",
    "            elif (i + 1) < lenght and word[i + 1] == \"e\":\n",
    "                new_word += \"е\"\n",
    "                i += 1\n",
    "            else:\n",
    "                new_word += \"й\"\n",
    "            if (i + 2) < lenght and word[i + 1] == word[i + 2] == \"h\":\n",
    "                new_word += \"ъ\"\n",
    "                i += 2\n",
    "\n",
    "        elif symbol == \"z\":\n",
    "            if (i + 1) < lenght and word[i + 1] == \"h\":\n",
    "                new_word += \"ж\"\n",
    "                i += 1\n",
    "            else:\n",
    "                new_word += \"з\"\n",
    "\n",
    "        elif symbol == \"i\":\n",
    "            if (i + 1) < lenght and word[i + 1] == \"h\":\n",
    "                new_word += \"ы\"\n",
    "                i += 1\n",
    "            else:\n",
    "                new_word += \"и\"\n",
    "\n",
    "        elif symbol == \"k\":\n",
    "            new_word += \"к\"\n",
    "\n",
    "        elif symbol == \"l\":\n",
    "            new_word += \"л\"\n",
    "\n",
    "        elif symbol == \"m\":\n",
    "            new_word += \"м\"\n",
    "\n",
    "        elif symbol == \"n\":\n",
    "            new_word += \"н\"\n",
    "\n",
    "        elif symbol == \"o\":\n",
    "            new_word += \"о\"\n",
    "\n",
    "        elif symbol == \"p\":\n",
    "            new_word += \"п\"\n",
    "\n",
    "        elif symbol == \"r\":\n",
    "            new_word += \"р\"\n",
    "\n",
    "        elif symbol == \"s\":\n",
    "            if (i + 1) < lenght and word[i + 1] == \"h\":\n",
    "                if (i + 2) < lenght and word[i + 2] == \"h\":\n",
    "                    new_word += \"щ\"\n",
    "                    i += 2\n",
    "                else:\n",
    "                    new_word += \"ш\"\n",
    "                    i += 1\n",
    "            else:\n",
    "                    new_word += \"с\"\n",
    "\n",
    "        elif symbol == \"t\":\n",
    "            new_word += \"т\"\n",
    "\n",
    "        elif symbol == \"u\":\n",
    "            new_word += \"у\"\n",
    "\n",
    "        elif symbol == \"f\":\n",
    "            new_word += \"ф\"\n",
    "\n",
    "        elif symbol == \"c\":\n",
    "            if (i + 1) < lenght and word[i + 1] == \"h\":\n",
    "                new_word += \"ч\"\n",
    "                i += 1\n",
    "            else:\n",
    "                new_word += \"ц\"\n",
    "\n",
    "        i += 1\n",
    "    return(new_word)"
   ]
  }
 ],
 "metadata": {
  "kernelspec": {
   "display_name": "Python 3 (ipykernel)",
   "language": "python",
   "name": "python3"
  },
  "language_info": {
   "codemirror_mode": {
    "name": "ipython",
    "version": 3
   },
   "file_extension": ".py",
   "mimetype": "text/x-python",
   "name": "python",
   "nbconvert_exporter": "python",
   "pygments_lexer": "ipython3",
   "version": "3.9.7"
  }
 },
 "nbformat": 4,
 "nbformat_minor": 5
}
